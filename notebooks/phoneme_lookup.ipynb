{
 "cells": [
  {
   "cell_type": "code",
   "execution_count": 1,
   "metadata": {
    "collapsed": true
   },
   "outputs": [],
   "source": [
    "import requests"
   ]
  },
  {
   "cell_type": "code",
   "execution_count": 48,
   "metadata": {
    "collapsed": true
   },
   "outputs": [],
   "source": [
    "def phoneme_dictionary():\n",
    "    r = requests.get('https://svn.code.sf.net/p/cmusphinx/code/trunk/cmudict/cmudict.0.7a')\n",
    "    phoneme_raw = r.text.splitlines()\n",
    "    phoneme_raw = phoneme_raw[54:]\n",
    "    phoneme_dict = {}\n",
    "    for line in phoneme_raw:\n",
    "        separate = line.find(\" \")\n",
    "        word = line[:separate]\n",
    "        phoneme = line[separate+2:]\n",
    "        phoneme_dict[word] = phoneme\n",
    "    return phoneme_dict"
   ]
  },
  {
   "cell_type": "code",
   "execution_count": 49,
   "metadata": {
    "collapsed": true
   },
   "outputs": [],
   "source": [
    "r = requests.get('https://svn.code.sf.net/p/cmusphinx/code/trunk/cmudict/cmudict.0.7a')"
   ]
  },
  {
   "cell_type": "code",
   "execution_count": 50,
   "metadata": {
    "collapsed": false
   },
   "outputs": [],
   "source": [
    "phoneme_raw = r.text.splitlines()"
   ]
  },
  {
   "cell_type": "code",
   "execution_count": 51,
   "metadata": {
    "collapsed": false
   },
   "outputs": [],
   "source": [
    "phoneme_raw = phoneme_raw[54:]"
   ]
  },
  {
   "cell_type": "code",
   "execution_count": 52,
   "metadata": {
    "collapsed": false
   },
   "outputs": [
    {
     "data": {
      "text/plain": [
       "u'}RIGHT-BRACE  R AY1 T B R EY1 S'"
      ]
     },
     "execution_count": 52,
     "metadata": {},
     "output_type": "execute_result"
    }
   ],
   "source": [
    "phoneme_raw[-1]"
   ]
  },
  {
   "cell_type": "code",
   "execution_count": 53,
   "metadata": {
    "collapsed": false
   },
   "outputs": [
    {
     "data": {
      "text/plain": [
       "u'  EH2 K S K L AH0 M EY1 SH AH0 N P OY2 N T'"
      ]
     },
     "execution_count": 53,
     "metadata": {},
     "output_type": "execute_result"
    }
   ],
   "source": [
    "phoneme_raw[0][phoneme_raw[0].find(\" \"):]"
   ]
  },
  {
   "cell_type": "code",
   "execution_count": 54,
   "metadata": {
    "collapsed": false
   },
   "outputs": [],
   "source": [
    "phoneme_dict = {}\n",
    "for line in phoneme_raw:\n",
    "    separate = line.find(\" \")\n",
    "    word = line[:separate]\n",
    "    phoneme = line[separate+2:]\n",
    "    phoneme_dict[word] = phoneme"
   ]
  },
  {
   "cell_type": "code",
   "execution_count": 55,
   "metadata": {
    "collapsed": false
   },
   "outputs": [
    {
     "data": {
      "text/plain": [
       "u'P AY1 N AE2 P AH0 L'"
      ]
     },
     "execution_count": 55,
     "metadata": {},
     "output_type": "execute_result"
    }
   ],
   "source": [
    "phoneme_dict['PINEAPPLE']"
   ]
  },
  {
   "cell_type": "code",
   "execution_count": null,
   "metadata": {
    "collapsed": true
   },
   "outputs": [],
   "source": []
  }
 ],
 "metadata": {
  "kernelspec": {
   "display_name": "Python 2",
   "language": "python",
   "name": "python2"
  },
  "language_info": {
   "codemirror_mode": {
    "name": "ipython",
    "version": 2
   },
   "file_extension": ".py",
   "mimetype": "text/x-python",
   "name": "python",
   "nbconvert_exporter": "python",
   "pygments_lexer": "ipython2",
   "version": "2.7.11"
  }
 },
 "nbformat": 4,
 "nbformat_minor": 0
}
