{
 "cells": [
  {
   "cell_type": "code",
   "execution_count": 1,
   "metadata": {
    "collapsed": true
   },
   "outputs": [],
   "source": [
    "import os\n",
    "import spacy\n",
    "from spacy.en import English, LOCAL_DATA_DIR"
   ]
  },
  {
   "cell_type": "code",
   "execution_count": 2,
   "metadata": {
    "collapsed": true
   },
   "outputs": [],
   "source": [
    "data_dir = os.environ.get('SPACY_DATA', LOCAL_DATA_DIR)"
   ]
  },
  {
   "cell_type": "code",
   "execution_count": 3,
   "metadata": {
    "collapsed": false
   },
   "outputs": [],
   "source": [
    "nlp = English(data_dir=data_dir)"
   ]
  },
  {
   "cell_type": "code",
   "execution_count": 4,
   "metadata": {
    "collapsed": true
   },
   "outputs": [],
   "source": [
    "doc6 = nlp(u\"Natural language processing (NLP) deals with the application of computational models to text or speech data.\")"
   ]
  },
  {
   "cell_type": "code",
   "execution_count": 7,
   "metadata": {
    "collapsed": false
   },
   "outputs": [],
   "source": [
    "class tree_node:\n",
    "    def __init__(self,token):\n",
    "        self.left=None\n",
    "        self.right=None\n",
    "        self.token_list=token"
   ]
  },
  {
   "cell_type": "code",
   "execution_count": 35,
   "metadata": {
    "collapsed": true
   },
   "outputs": [],
   "source": [
    "def find_top_token(tokens):\n",
    "    top = 1\n",
    "    top_list = []\n",
    "    for token in tokens:\n",
    "        subtree_length = len([t for t in token.subtree])\n",
    "        if subtree_length==top:\n",
    "            top_list.append(token)\n",
    "        elif subtree_length >top:\n",
    "            top = subtree_length\n",
    "            top_list = [token]\n",
    "    return top_list"
   ]
  },
  {
   "cell_type": "code",
   "execution_count": 193,
   "metadata": {
    "collapsed": false
   },
   "outputs": [],
   "source": [
    "def build_tree(sentance,offset=0):\n",
    "    if len(sentance)==0:\n",
    "        return\n",
    "    node = tree_node(find_top_token(sentance))\n",
    "    left = min(node.token_list,key=lambda token:token.i)\n",
    "    right= max(node.token_list,key=lambda token:token.i)\n",
    "    node.left = build_tree(sentance[:left.i-offset],offset)\n",
    "    node.right = build_tree(sentance[right.i-offset+1:],right.i+1)\n",
    "    \n",
    "    return node\n",
    "    "
   ]
  },
  {
   "cell_type": "code",
   "execution_count": 194,
   "metadata": {
    "collapsed": false,
    "scrolled": true
   },
   "outputs": [],
   "source": [
    "root = build_tree(doc6)"
   ]
  },
  {
   "cell_type": "code",
   "execution_count": 202,
   "metadata": {
    "collapsed": false
   },
   "outputs": [
    {
     "name": "stdout",
     "output_type": "stream",
     "text": [
      "[deals ]\n"
     ]
    }
   ],
   "source": [
    "print root.token_list"
   ]
  },
  {
   "cell_type": "code",
   "execution_count": null,
   "metadata": {
    "collapsed": true
   },
   "outputs": [],
   "source": []
  }
 ],
 "metadata": {
  "kernelspec": {
   "display_name": "Python 2",
   "language": "python",
   "name": "python2"
  },
  "language_info": {
   "codemirror_mode": {
    "name": "ipython",
    "version": 2
   },
   "file_extension": ".py",
   "mimetype": "text/x-python",
   "name": "python",
   "nbconvert_exporter": "python",
   "pygments_lexer": "ipython2",
   "version": "2.7.11"
  }
 },
 "nbformat": 4,
 "nbformat_minor": 0
}
