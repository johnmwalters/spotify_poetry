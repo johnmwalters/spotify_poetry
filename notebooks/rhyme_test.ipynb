{
 "cells": [
  {
   "cell_type": "code",
   "execution_count": null,
   "metadata": {
    "collapsed": true
   },
   "outputs": [],
   "source": [
    "import requests"
   ]
  },
  {
   "cell_type": "code",
   "execution_count": null,
   "metadata": {
    "collapsed": true
   },
   "outputs": [],
   "source": [
    "def phoneme_dictionary():\n",
    "    r = requests.get('https://svn.code.sf.net/p/cmusphinx/code/trunk/cmudict/cmudict.0.7a')\n",
    "    phoneme_raw = r.text.splitlines()\n",
    "    phoneme_raw = phoneme_raw[54:]\n",
    "    phoneme_dict = {}\n",
    "    for line in phoneme_raw:\n",
    "        separate = line.find(\" \")\n",
    "        word = line[:separate]\n",
    "        phoneme = line[separate+2:]\n",
    "        phoneme_dict[word] = phoneme\n",
    "    return phoneme_dict"
   ]
  },
  {
   "cell_type": "code",
   "execution_count": null,
   "metadata": {
    "collapsed": true
   },
   "outputs": [],
   "source": [
    "phoneme_dict = phoneme_dictionary()"
   ]
  },
  {
   "cell_type": "code",
   "execution_count": 7,
   "metadata": {
    "collapsed": false
   },
   "outputs": [],
   "source": [
    "count = 0\n",
    "for word, phoneme in phoneme_dict.items():\n",
    "    count += 1"
   ]
  },
  {
   "cell_type": "code",
   "execution_count": 8,
   "metadata": {
    "collapsed": false
   },
   "outputs": [
    {
     "data": {
      "text/plain": [
       "133287"
      ]
     },
     "execution_count": 8,
     "metadata": {},
     "output_type": "execute_result"
    }
   ],
   "source": [
    "count"
   ]
  },
  {
   "cell_type": "code",
   "execution_count": 12,
   "metadata": {
    "collapsed": false
   },
   "outputs": [
    {
     "data": {
      "text/plain": [
       "7"
      ]
     },
     "execution_count": 12,
     "metadata": {},
     "output_type": "execute_result"
    }
   ],
   "source": [
    "phoneme_dict['WORD']\n",
    "len(phoneme_dict['WORD'])"
   ]
  },
  {
   "cell_type": "code",
   "execution_count": 28,
   "metadata": {
    "collapsed": false
   },
   "outputs": [
    {
     "data": {
      "text/plain": [
       "u'D'"
      ]
     },
     "execution_count": 28,
     "metadata": {},
     "output_type": "execute_result"
    }
   ],
   "source": [
    "phoneme_dict['WORD'][-1:]"
   ]
  },
  {
   "cell_type": "code",
   "execution_count": 29,
   "metadata": {
    "collapsed": false
   },
   "outputs": [
    {
     "data": {
      "text/plain": [
       "u'D'"
      ]
     },
     "execution_count": 29,
     "metadata": {},
     "output_type": "execute_result"
    }
   ],
   "source": [
    "phoneme_dict['BIRD'][-1:]"
   ]
  },
  {
   "cell_type": "code",
   "execution_count": 30,
   "metadata": {
    "collapsed": false
   },
   "outputs": [
    {
     "name": "stdout",
     "output_type": "stream",
     "text": [
      "yes\n"
     ]
    }
   ],
   "source": [
    "if phoneme_dict['BIRD'][-1:] == phoneme_dict['WORD'][-1:]:\n",
    "    print \"yes\""
   ]
  },
  {
   "cell_type": "code",
   "execution_count": 37,
   "metadata": {
    "collapsed": false
   },
   "outputs": [],
   "source": [
    "max_phoneme = \"\"\n",
    "max_phoneme_dist = 1\n",
    "max_word = \"\"\n",
    "register = 0\n",
    "phoneme_test = \"\"\n",
    "for word, phoneme in phoneme_dict.items():\n",
    "    phoneme_test = phoneme\n",
    "    if word != 'WORD':\n",
    "        if phoneme[-max_phoneme_dist:] == phoneme_dict['WORD'][-max_phoneme_dist:]:\n",
    "            max_phoneme_dist += 1\n",
    "            max_word = word\n",
    "            register = 1"
   ]
  },
  {
   "cell_type": "code",
   "execution_count": 38,
   "metadata": {
    "collapsed": false
   },
   "outputs": [
    {
     "data": {
      "text/plain": [
       "8"
      ]
     },
     "execution_count": 38,
     "metadata": {},
     "output_type": "execute_result"
    }
   ],
   "source": [
    "max_phoneme_dist"
   ]
  },
  {
   "cell_type": "code",
   "execution_count": 39,
   "metadata": {
    "collapsed": false
   },
   "outputs": [
    {
     "data": {
      "text/plain": [
       "u'REWORD'"
      ]
     },
     "execution_count": 39,
     "metadata": {},
     "output_type": "execute_result"
    }
   ],
   "source": [
    "max_word"
   ]
  },
  {
   "cell_type": "code",
   "execution_count": 27,
   "metadata": {
    "collapsed": false
   },
   "outputs": [
    {
     "data": {
      "text/plain": [
       "0"
      ]
     },
     "execution_count": 27,
     "metadata": {},
     "output_type": "execute_result"
    }
   ],
   "source": [
    "register"
   ]
  },
  {
   "cell_type": "code",
   "execution_count": 33,
   "metadata": {
    "collapsed": false
   },
   "outputs": [
    {
     "data": {
      "text/plain": [
       "u'Z'"
      ]
     },
     "execution_count": 33,
     "metadata": {},
     "output_type": "execute_result"
    }
   ],
   "source": [
    "phoneme_test[-1:]"
   ]
  },
  {
   "cell_type": "code",
   "execution_count": 40,
   "metadata": {
    "collapsed": false
   },
   "outputs": [
    {
     "data": {
      "text/plain": [
       "u'B ER1 D'"
      ]
     },
     "execution_count": 40,
     "metadata": {},
     "output_type": "execute_result"
    }
   ],
   "source": [
    "phoneme_dict['BIRD']"
   ]
  },
  {
   "cell_type": "code",
   "execution_count": 42,
   "metadata": {
    "collapsed": false
   },
   "outputs": [
    {
     "data": {
      "text/plain": [
       "u'D 1RE W'"
      ]
     },
     "execution_count": 42,
     "metadata": {},
     "output_type": "execute_result"
    }
   ],
   "source": [
    "phoneme_dict['WORD'][::-1]"
   ]
  },
  {
   "cell_type": "code",
   "execution_count": 48,
   "metadata": {
    "collapsed": false
   },
   "outputs": [
    {
     "data": {
      "text/plain": [
       "[u'ER1', u'D']"
      ]
     },
     "execution_count": 48,
     "metadata": {},
     "output_type": "execute_result"
    }
   ],
   "source": [
    "phoneme_dict['WORD'].split()[-2:]"
   ]
  },
  {
   "cell_type": "code",
   "execution_count": 79,
   "metadata": {
    "collapsed": false
   },
   "outputs": [],
   "source": [
    "def rhyme_words(word):\n",
    "    word_uc = word.upper()\n",
    "    rhyme_list = []\n",
    "    for key, phoneme in phoneme_dict.items():\n",
    "        if key != word_uc:\n",
    "            if phoneme.split()[-2:] == phoneme_dict[word_uc].split()[-2:]:\n",
    "                rhyme_list.append(key)\n",
    "    return rhyme_list"
   ]
  },
  {
   "cell_type": "code",
   "execution_count": 82,
   "metadata": {
    "collapsed": false
   },
   "outputs": [
    {
     "data": {
      "text/plain": [
       "[u'BIRT',\n",
       " u'HIRT',\n",
       " u'TURRET(1)',\n",
       " u'DESSERT',\n",
       " u'CHERT',\n",
       " u'BOISVERT',\n",
       " u'UNHURT',\n",
       " u'OVERT',\n",
       " u'PERT',\n",
       " u'REASSERT',\n",
       " u'VANWERT',\n",
       " u'BERT',\n",
       " u'DILBERT',\n",
       " u'INSERT',\n",
       " u'CURT',\n",
       " u'DIVERT',\n",
       " u'AVERT',\n",
       " u'FLIRT',\n",
       " u'MCWHIRT',\n",
       " u'KURT',\n",
       " u'REVERT',\n",
       " u'DISCONCERT',\n",
       " u'ASSERT',\n",
       " u'INVERT',\n",
       " u'ALERT',\n",
       " u'HURTT',\n",
       " u'PERVERT(1)',\n",
       " u'WIRT',\n",
       " u'REVERT(1)',\n",
       " u'GERT',\n",
       " u'DIVERT(1)',\n",
       " u'EVERT',\n",
       " u'BURT',\n",
       " u'KUHRT',\n",
       " u'GIRT',\n",
       " u'SPURT',\n",
       " u'SCHWERDT',\n",
       " u'EXERT',\n",
       " u'CONCERT(1)',\n",
       " u'SUBVERT',\n",
       " u'HERDT',\n",
       " u'CONVERT(1)',\n",
       " u'PURT',\n",
       " u'SQUIRT',\n",
       " u'KIRT',\n",
       " u'INERT',\n",
       " u'DESERT(1)',\n",
       " u'BERTE',\n",
       " u'WERT',\n",
       " u'THIBERT',\n",
       " u'HURT',\n",
       " u'DIRT',\n",
       " u'BURTT',\n",
       " u'ERTE',\n",
       " u'HERT',\n",
       " u'SKIRT',\n",
       " u'BLURT',\n",
       " u'MCGUIRT',\n",
       " u'MCGIRT',\n",
       " u'PEART',\n",
       " u'VERT']"
      ]
     },
     "execution_count": 82,
     "metadata": {},
     "output_type": "execute_result"
    }
   ],
   "source": [
    "rhyme_words('shirt')"
   ]
  },
  {
   "cell_type": "code",
   "execution_count": 22,
   "metadata": {
    "collapsed": false
   },
   "outputs": [],
   "source": [
    "def best_rhyme(word, rhyme_list):\n",
    "    best_rhyme_list = []\n",
    "    word_uc = word.upper()\n",
    "    new_list = []\n",
    "    for phoneme_length in range(len(phoneme_dict[word_uc].split()),2,-1):\n",
    "        for rhymes in rhyme_list:\n",
    "            if phoneme_dict[word_uc][-phoneme_length:] == phoneme_dict[rhymes][-phoneme_length:]:\n",
    "                best_rhyme_list.append(rhymes)\n",
    "        if best_rhyme_list != 0:\n",
    "            return best_rhyme_list"
   ]
  },
  {
   "cell_type": "code",
   "execution_count": 24,
   "metadata": {
    "collapsed": false
   },
   "outputs": [
    {
     "data": {
      "text/plain": [
       "[u'OPAL',\n",
       " u'HASPEL',\n",
       " u'DIMPLE',\n",
       " u'POPPLE',\n",
       " u'BOEPPLE',\n",
       " u'KNIPPLE',\n",
       " u'KNIPL',\n",
       " u'CHAPPLE',\n",
       " u'STRIMPLE',\n",
       " u'SIPPLE',\n",
       " u'EPPEL',\n",
       " u'SNAPPLE',\n",
       " u'OPLE',\n",
       " u'PIMPLE',\n",
       " u'RUMPLE',\n",
       " u'PEPPEL',\n",
       " u'SAMPLE',\n",
       " u'SEMPLE',\n",
       " u'KEPPEL',\n",
       " u'PUPIL',\n",
       " u'PURPLE',\n",
       " u'SCALPEL',\n",
       " u'N-TUPLE',\n",
       " u'EPISCOPAL',\n",
       " u'APPLE',\n",
       " u'SEIPEL',\n",
       " u'KLIPPEL',\n",
       " u'LAYPEOPLE',\n",
       " u'HIPPLE',\n",
       " u'HEUPEL',\n",
       " u'CAPEL',\n",
       " u'AMPLE',\n",
       " u'RIPPLE',\n",
       " u'TREPPEL',\n",
       " u'PRINCIPAL',\n",
       " u'HOLTZAPPLE',\n",
       " u'OEDIPAL',\n",
       " u'RUPLE',\n",
       " u'CAPPEL',\n",
       " u'PRINCIPLE',\n",
       " u'RIPPEL',\n",
       " u'KNUEPPEL',\n",
       " u'TRIPPEL',\n",
       " u'TOWNSPEOPLE',\n",
       " u'TRIPLE',\n",
       " u'KOEPPEL',\n",
       " u'GIPPLE',\n",
       " u'PAMPEL',\n",
       " u'LACHAPELLE',\n",
       " u'REMPEL',\n",
       " u'STEMPEL',\n",
       " u'COPPLE',\n",
       " u'TOPPLE',\n",
       " u'MULTIPLE',\n",
       " u'CONSTANTINOPLE',\n",
       " u'OPPEL',\n",
       " u'SEIPLE',\n",
       " u'QUINTUPLE',\n",
       " u'NEWSPEOPLE',\n",
       " u'SALESPEOPLE',\n",
       " u'SHAPPELL',\n",
       " u'HOLSOPPLE',\n",
       " u'UNCOUPLE',\n",
       " u'KARPEL',\n",
       " u'KNIPPEL',\n",
       " u'PEOPLE',\n",
       " u'NEPL',\n",
       " u'GRAPPLE',\n",
       " u'GOSPEL',\n",
       " u'GOUPIL',\n",
       " u'EXAMPLE',\n",
       " u'EPPLE',\n",
       " u'DISCIPLE',\n",
       " u'QUADRUPLE',\n",
       " u'KIMPEL',\n",
       " u'BUSINESSPEOPLE',\n",
       " u'PEPPLE',\n",
       " u'CRISPELL',\n",
       " u'TEEPLE',\n",
       " u'HOPPEL',\n",
       " u'STAPEL',\n",
       " u'METACARPAL',\n",
       " u'KEMPEL',\n",
       " u'KOPPELL',\n",
       " u'KEMPLE',\n",
       " u'DIPPEL',\n",
       " u'ARCHETYPAL',\n",
       " u'APPELL',\n",
       " u'SIPLE',\n",
       " u'KOPPEL',\n",
       " u'YAPLE',\n",
       " u'RUMPEL',\n",
       " u'STAPLE',\n",
       " u'SCRUPLE',\n",
       " u'DETEMPLE',\n",
       " u'DECOUPLE',\n",
       " u'CRAFTSPEOPLE(1)',\n",
       " u'TEMPLE',\n",
       " u'STOPPEL',\n",
       " u'WEMPLE',\n",
       " u'CHAPEL',\n",
       " u'KNISPEL',\n",
       " u'HOLSAPPLE',\n",
       " u'KOPEL',\n",
       " u'HAMPLE',\n",
       " u'TRIPPLE',\n",
       " u'CRUMPLE',\n",
       " u'TEMPEL',\n",
       " u'MARPLE',\n",
       " u'KEPPLE',\n",
       " u'TRAMPLE',\n",
       " u'TOPEL',\n",
       " u'STEMPLE',\n",
       " u'MAPLE',\n",
       " u'CHAPPELL',\n",
       " u'HAPPEL',\n",
       " u'SIPPEL',\n",
       " u'MUNICIPAL',\n",
       " u'KLOEPPEL',\n",
       " u'HUMPAL',\n",
       " u'LAMPL',\n",
       " u'GOSPEL(1)',\n",
       " u'SIMPLE',\n",
       " u'CHAIRPEOPLE',\n",
       " u'KIMPLE',\n",
       " u'WHIPPLE(1)',\n",
       " u'HOPPLE',\n",
       " u'HEMPEL',\n",
       " u'ZEMPEL',\n",
       " u'STEPPEL',\n",
       " u'OPEL',\n",
       " u'SCHAPPELL',\n",
       " u'NIPPLE',\n",
       " u'CARPAL',\n",
       " u'STEEPLE',\n",
       " u'AMPAL',\n",
       " u'COPPEL',\n",
       " u'PAPAL',\n",
       " u'WHIPPLE',\n",
       " u'TIPPLE',\n",
       " u'APPEL',\n",
       " u'POPPELL',\n",
       " u'CAPLE',\n",
       " u'DIPPLE',\n",
       " u'SUPPLE',\n",
       " u'SCHIPHOL',\n",
       " u'GIMPEL',\n",
       " u'HAMPEL',\n",
       " u'RUPPEL',\n",
       " u'FIPPLE',\n",
       " u'DALRYMPLE',\n",
       " u'KOPPLE',\n",
       " u'CONGRESSPEOPLE',\n",
       " u'SUBPRINCIPAL',\n",
       " u'SPOKESPEOPLE',\n",
       " u'MAPEL',\n",
       " u'PARTICIPLE',\n",
       " u'CRAFTSPEOPLE',\n",
       " u'CRIPPLE',\n",
       " u'HEIPLE',\n",
       " u'QUINTUPLE(1)',\n",
       " u'KAPPEL',\n",
       " u'COUPLE',\n",
       " u'CHAPPEL']"
      ]
     },
     "execution_count": 24,
     "metadata": {},
     "output_type": "execute_result"
    }
   ],
   "source": [
    "best_rhyme('pineapple',rhyme_words('pineapple'))"
   ]
  },
  {
   "cell_type": "code",
   "execution_count": null,
   "metadata": {
    "collapsed": true
   },
   "outputs": [],
   "source": []
  }
 ],
 "metadata": {
  "kernelspec": {
   "display_name": "Python 2",
   "language": "python",
   "name": "python2"
  },
  "language_info": {
   "codemirror_mode": {
    "name": "ipython",
    "version": 2
   },
   "file_extension": ".py",
   "mimetype": "text/x-python",
   "name": "python",
   "nbconvert_exporter": "python",
   "pygments_lexer": "ipython2",
   "version": "2.7.11"
  }
 },
 "nbformat": 4,
 "nbformat_minor": 0
}
